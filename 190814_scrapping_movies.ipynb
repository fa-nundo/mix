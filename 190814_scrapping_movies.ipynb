{
 "cells": [
  {
   "cell_type": "code",
   "execution_count": 1,
   "metadata": {},
   "outputs": [],
   "source": [
    "# import librairies\n",
    "import requests\n",
    "from bs4 import BeautifulSoup\n",
    "\n",
    "import pandas as pd\n",
    "import numpy as np\n"
   ]
  },
  {
   "cell_type": "code",
   "execution_count": 2,
   "metadata": {},
   "outputs": [],
   "source": [
    "# create the list movie_cards, with as many nested lists as pages, with all page entity cards inside.\n",
    "pages = 25\n",
    "url_param = 'http://www.allocine.fr'\n",
    "fill_val = ''\n",
    "movies_cards = []\n",
    "\n",
    "for page in range(pages):\n",
    "    url = f'http://www.allocine.fr/dvd/meilleurs/?page={page}'\n",
    "    r = requests.get(url)\n",
    "    allocine = BeautifulSoup(r.text, 'lxml')\n",
    "    cards = allocine.find_all('div', class_='entity-card-list')\n",
    "    movies_cards.append(cards)\n"
   ]
  },
  {
   "cell_type": "code",
   "execution_count": 3,
   "metadata": {},
   "outputs": [],
   "source": [
    "# fill our movie lists\n",
    "movie_title = []\n",
    "movie_url = []\n",
    "movie_acteurs = []\n",
    "movie_resume = []\n",
    "movie_presse = []\n",
    "movie_spectateurs = []\n",
    "movie_amis = []\n",
    "\n",
    "for pages in movies_cards:\n",
    "    for card in pages:\n",
    "        # add movies title\n",
    "        movie_title.append(card.find('a', class_='meta-title-link', href=True).text)\n",
    "\n",
    "        # add movies url\n",
    "        movie_url.append(url_param + card.find('a', class_='meta-title-link', href=True)['href'])\n",
    "        \n",
    "        # add movies actors\n",
    "        if 'meta-body-actor' in str(card):\n",
    "            actors_blocs = card.find('div', class_='meta-body-actor').text.splitlines()\n",
    "            actors_list = []\n",
    "            \n",
    "            for list_elements in actors_blocs:\n",
    "                m = list_elements.strip()\n",
    "                if m != '' and m != 'Avec':\n",
    "                    actors_list.append(m)\n",
    "            movie_acteurs.append(' '.join(actors_list))\n",
    "            \n",
    "        else:\n",
    "            movie_acteurs.append(fill_val)\n",
    "        \n",
    "        # add movies resume\n",
    "        if 'content-txt' in str(card):\n",
    "            movie_resume.append(card.find('div', class_='content-txt').text.strip())\n",
    "        else:\n",
    "            movie_resume.append(fill_val)\n",
    "        \n",
    "        # add press, spectators and friends movie ratings\n",
    "        if 'rating-item' in str(card):\n",
    "            rating = card.find_all('div', class_='rating-item')\n",
    "            i = 0\n",
    "            tour = 1\n",
    "            for elmt in rating:\n",
    "                # we have to analyse each blocs separatly (cause same span/div class names)\n",
    "                if tour%3 == 1:\n",
    "                    if 'Presse' in str(rating[i]):\n",
    "                        u = elmt.find_all('span', class_=\"stareval-note\")[0].text\n",
    "                        movie_presse.append(u)\n",
    "                    else:\n",
    "                        movie_presse.append(fill_val)\n",
    "                        tour += 1\n",
    "           \n",
    "                if tour%3 == 2:\n",
    "                    if 'Spectateur' in str(rating[i]):\n",
    "                        v = elmt.find_all('span', class_=\"stareval-note\")[0].text\n",
    "                        movie_spectateurs.append(v)\n",
    "                    else: \n",
    "                        movie_spectateurs.append(fill_val)\n",
    "            \n",
    "                if tour%3 == 0:\n",
    "                    if 'Amis' in str(rating[i]):\n",
    "                        v = elmt.find_all('span', class_=\"stareval-note\")[0].text\n",
    "                        movie_amis.append(v)\n",
    "                    else:\n",
    "                        movie_amis.append(fill_val)\n",
    "            \n",
    "                i += 1\n",
    "                tour += 1\n",
    "        else:\n",
    "            movie_presse.append(fill_val)\n",
    "            movie_spectateurs.append(fill_val)\n",
    "            movie_amis.append(fill_val)"
   ]
  },
  {
   "cell_type": "code",
   "execution_count": 4,
   "metadata": {},
   "outputs": [
    {
     "name": "stdout",
     "output_type": "stream",
     "text": [
      "375\n",
      "375\n",
      "375\n",
      "375\n",
      "375\n",
      "375\n",
      "375\n"
     ]
    }
   ],
   "source": [
    "# check length of lists\n",
    "print(len(movie_title))\n",
    "print(len(movie_url))\n",
    "print(len(movie_acteurs))\n",
    "print(len(movie_resume))\n",
    "print(len(movie_presse))\n",
    "print(len(movie_spectateurs))\n",
    "print(len(movie_amis))"
   ]
  },
  {
   "cell_type": "code",
   "execution_count": 5,
   "metadata": {
    "scrolled": false
   },
   "outputs": [],
   "source": [
    "# create our dataframe\n",
    "allocine_recent_movies = pd.DataFrame(\n",
    "    {'Title': movie_title,\n",
    "     'Press Rating' : movie_presse,\n",
    "     'Spectator Rating' : movie_spectateurs,\n",
    "     'Actors': movie_acteurs,\n",
    "     'Resume' : movie_resume,\n",
    "     'Allociné URL' : movie_url\n",
    "    })"
   ]
  },
  {
   "cell_type": "code",
   "execution_count": 6,
   "metadata": {},
   "outputs": [],
   "source": [
    "# set full display on texts\n",
    "pd.set_option('display.max_colwidth', -1)"
   ]
  },
  {
   "cell_type": "code",
   "execution_count": 7,
   "metadata": {},
   "outputs": [
    {
     "data": {
      "text/html": [
       "<div>\n",
       "<style scoped>\n",
       "    .dataframe tbody tr th:only-of-type {\n",
       "        vertical-align: middle;\n",
       "    }\n",
       "\n",
       "    .dataframe tbody tr th {\n",
       "        vertical-align: top;\n",
       "    }\n",
       "\n",
       "    .dataframe thead th {\n",
       "        text-align: right;\n",
       "    }\n",
       "</style>\n",
       "<table border=\"1\" class=\"dataframe\">\n",
       "  <thead>\n",
       "    <tr style=\"text-align: right;\">\n",
       "      <th></th>\n",
       "      <th>Title</th>\n",
       "      <th>Press Rating</th>\n",
       "      <th>Spectator Rating</th>\n",
       "      <th>Actors</th>\n",
       "      <th>Resume</th>\n",
       "      <th>Allociné URL</th>\n",
       "    </tr>\n",
       "  </thead>\n",
       "  <tbody>\n",
       "    <tr>\n",
       "      <th>0</th>\n",
       "      <td>Green Book : Sur les routes du sud</td>\n",
       "      <td>4,0</td>\n",
       "      <td>4,5</td>\n",
       "      <td>Viggo Mortensen, Mahershala Ali, Linda Cardellini</td>\n",
       "      <td>En 1962, alors que règne la ségrégation, Tony Lip, un videur italo-américain du Bronx, est engagé pour conduire et protéger le Dr Don Shirley, un pianiste noir de renommée mondiale, lors d’une tournée de concerts.</td>\n",
       "      <td>http://www.allocine.fr/film/fichefilm_gen_cfilm=256661.html</td>\n",
       "    </tr>\n",
       "    <tr>\n",
       "      <th>1</th>\n",
       "      <td>Bohemian Rhapsody</td>\n",
       "      <td>3,0</td>\n",
       "      <td>4,5</td>\n",
       "      <td>Rami Malek, Gwilym Lee, Lucy Boynton</td>\n",
       "      <td>Du succès fulgurant de Freddie Mercury à ses excès, risquant la quasi-implosion du groupe, jusqu’à son retour triomphal sur scène lors du concert Live Aid, alors qu’il était frappé par la maladie, découvrez la vie exceptionnelle d’un homme qui continue d’inspirer les outsiders, les rêveurs et tous ceux qui aiment la musique.</td>\n",
       "      <td>http://www.allocine.fr/film/fichefilm_gen_cfilm=185719.html</td>\n",
       "    </tr>\n",
       "    <tr>\n",
       "      <th>2</th>\n",
       "      <td>Capharnaüm</td>\n",
       "      <td>3,0</td>\n",
       "      <td>4,4</td>\n",
       "      <td>Zain Al Rafeea, Cedra Izam, Nadine Labaki</td>\n",
       "      <td>À l'intérieur d'un tribunal, Zain, un garçon de 12 ans, est présenté devant le juge. À la question : \" Pourquoi attaquez-vous vos parents en justice ? \", Zain lui répond : \" Pour m'avoir donné la vie ! \". Capharnaüm retrace l'incroyable parcours de cet enfant en quête d'identité et qui se rebelle contre la vie qu'on cherche à lui imposer.</td>\n",
       "      <td>http://www.allocine.fr/film/fichefilm_gen_cfilm=251090.html</td>\n",
       "    </tr>\n",
       "    <tr>\n",
       "      <th>3</th>\n",
       "      <td>Edmond</td>\n",
       "      <td>3,6</td>\n",
       "      <td>4,4</td>\n",
       "      <td>Thomas Solivérès, Olivier Gourmet, Mathilde Seigner</td>\n",
       "      <td>Décembre 1897, Paris. Edmond Rostand n’a pas encore trente ans mais déjà deux enfants et beaucoup d’angoisses. Il n’a rien écrit depuis deux ans. En désespoir de cause, il propose au grand Constant Coquelin une pièce nouvelle, une comédie héroïque, en vers, pour les fêtes.</td>\n",
       "      <td>http://www.allocine.fr/film/fichefilm_gen_cfilm=256968.html</td>\n",
       "    </tr>\n",
       "    <tr>\n",
       "      <th>4</th>\n",
       "      <td>Spider-Man : New Generation</td>\n",
       "      <td>4,2</td>\n",
       "      <td>4,4</td>\n",
       "      <td>Stéphane Bak, Camélia Jordana, Olivier Giroud</td>\n",
       "      <td>SPIDER-MAN : NEW GENERATION présente Miles Morales, un adolescent vivant à Brooklyn, et révèle les possibilités illimitées du Spider-Verse, un univers où plus d’un peut porter le masque…</td>\n",
       "      <td>http://www.allocine.fr/film/fichefilm_gen_cfilm=233998.html</td>\n",
       "    </tr>\n",
       "  </tbody>\n",
       "</table>\n",
       "</div>"
      ],
      "text/plain": [
       "                                Title Press Rating Spectator Rating  \\\n",
       "0  Green Book : Sur les routes du sud  4,0          4,5               \n",
       "1  Bohemian Rhapsody                   3,0          4,5               \n",
       "2  Capharnaüm                          3,0          4,4               \n",
       "3  Edmond                              3,6          4,4               \n",
       "4  Spider-Man : New Generation         4,2          4,4               \n",
       "\n",
       "                                                Actors  \\\n",
       "0  Viggo Mortensen, Mahershala Ali, Linda Cardellini     \n",
       "1  Rami Malek, Gwilym Lee, Lucy Boynton                  \n",
       "2  Zain Al Rafeea, Cedra Izam, Nadine Labaki             \n",
       "3  Thomas Solivérès, Olivier Gourmet, Mathilde Seigner   \n",
       "4  Stéphane Bak, Camélia Jordana, Olivier Giroud         \n",
       "\n",
       "                                                                                                                                                                                                                                                                                                                                                 Resume  \\\n",
       "0  En 1962, alors que règne la ségrégation, Tony Lip, un videur italo-américain du Bronx, est engagé pour conduire et protéger le Dr Don Shirley, un pianiste noir de renommée mondiale, lors d’une tournée de concerts.                                                                                                                                  \n",
       "1  Du succès fulgurant de Freddie Mercury à ses excès, risquant la quasi-implosion du groupe, jusqu’à son retour triomphal sur scène lors du concert Live Aid, alors qu’il était frappé par la maladie, découvrez la vie exceptionnelle d’un homme qui continue d’inspirer les outsiders, les rêveurs et tous ceux qui aiment la musique.                 \n",
       "2  À l'intérieur d'un tribunal, Zain, un garçon de 12 ans, est présenté devant le juge. À la question : \" Pourquoi attaquez-vous vos parents en justice ? \", Zain lui répond : \" Pour m'avoir donné la vie ! \". Capharnaüm retrace l'incroyable parcours de cet enfant en quête d'identité et qui se rebelle contre la vie qu'on cherche à lui imposer.   \n",
       "3  Décembre 1897, Paris. Edmond Rostand n’a pas encore trente ans mais déjà deux enfants et beaucoup d’angoisses. Il n’a rien écrit depuis deux ans. En désespoir de cause, il propose au grand Constant Coquelin une pièce nouvelle, une comédie héroïque, en vers, pour les fêtes.                                                                      \n",
       "4  SPIDER-MAN : NEW GENERATION présente Miles Morales, un adolescent vivant à Brooklyn, et révèle les possibilités illimitées du Spider-Verse, un univers où plus d’un peut porter le masque…                                                                                                                                                             \n",
       "\n",
       "                                                  Allociné URL  \n",
       "0  http://www.allocine.fr/film/fichefilm_gen_cfilm=256661.html  \n",
       "1  http://www.allocine.fr/film/fichefilm_gen_cfilm=185719.html  \n",
       "2  http://www.allocine.fr/film/fichefilm_gen_cfilm=251090.html  \n",
       "3  http://www.allocine.fr/film/fichefilm_gen_cfilm=256968.html  \n",
       "4  http://www.allocine.fr/film/fichefilm_gen_cfilm=233998.html  "
      ]
     },
     "execution_count": 7,
     "metadata": {},
     "output_type": "execute_result"
    }
   ],
   "source": [
    "# let's take a look\n",
    "allocine_recent_movies.head()"
   ]
  },
  {
   "cell_type": "code",
   "execution_count": 8,
   "metadata": {},
   "outputs": [],
   "source": [
    "# dataframe to HTML\n",
    "allocine_recent_movies.to_html('.../190814_allocine_recent_movies.html')"
   ]
  },
  {
   "cell_type": "code",
   "execution_count": 9,
   "metadata": {
    "scrolled": true
   },
   "outputs": [],
   "source": [
    "# dataframe to CSV\n",
    "allocine_recent_movies.to_csv('.../190814_allocine_recent_movies.csv')"
   ]
  },
  {
   "cell_type": "code",
   "execution_count": null,
   "metadata": {},
   "outputs": [],
   "source": [
    "# dataframe to PDF\n",
    "# tries with pdfkit, and PyQT4, but no success."
   ]
  }
 ],
 "metadata": {
  "kernelspec": {
   "display_name": "Python 3",
   "language": "python",
   "name": "python3"
  },
  "language_info": {
   "codemirror_mode": {
    "name": "ipython",
    "version": 3
   },
   "file_extension": ".py",
   "mimetype": "text/x-python",
   "name": "python",
   "nbconvert_exporter": "python",
   "pygments_lexer": "ipython3",
   "version": "3.7.3"
  },
  "toc": {
   "base_numbering": 1,
   "nav_menu": {},
   "number_sections": true,
   "sideBar": true,
   "skip_h1_title": false,
   "title_cell": "Table of Contents",
   "title_sidebar": "Contents",
   "toc_cell": false,
   "toc_position": {},
   "toc_section_display": true,
   "toc_window_display": false
  }
 },
 "nbformat": 4,
 "nbformat_minor": 2
}
